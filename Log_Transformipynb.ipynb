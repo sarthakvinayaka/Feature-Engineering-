{
  "nbformat": 4,
  "nbformat_minor": 0,
  "metadata": {
    "colab": {
      "name": "Log Transformipynb",
      "provenance": []
    },
    "kernelspec": {
      "name": "python3",
      "display_name": "Python 3"
    }
  },
  "cells": [
    {
      "cell_type": "markdown",
      "metadata": {
        "id": "-XszNRlCMwii",
        "colab_type": "text"
      },
      "source": [
        "## Log Transform"
      ]
    },
    {
      "cell_type": "markdown",
      "metadata": {
        "id": "AX_xWFFGM3sN",
        "colab_type": "text"
      },
      "source": [
        "**Log Transform** The log transform belongs to the power transform family of functions. This function can be mathematically represented as y=log(x) which reads as log of x to the base b is equal to y.The natural logarithm uses b=e where e = 2.71828 popularly known as Euler’s number.\n",
        "\n",
        "\n",
        "This process is useful for compressing the y-axis when plotting histograms.\n",
        "For example, if we have a very large range of data, then smaller values can get\n",
        "overwhelmed by the larger values. Taking the log of each variable enables the\n",
        "visualization to be clearer"
      ]
    },
    {
      "cell_type": "markdown",
      "metadata": {
        "id": "PwWdRIG-OLrA",
        "colab_type": "text"
      },
      "source": [
        "**Advantage** \n",
        "\n",
        "\n",
        "\n",
        "1.   Log transforms are useful when applied to skewed distributions as they tend to expand the values which fall in the range of lower magnitudes and tend to compress or reduce the values which fall in the range of higher magnitudes.\n",
        "2.   It also decreases the effect of the outliers, due to the normalization of magnitude differences and the model become more robust.\n",
        "\n"
      ]
    },
    {
      "cell_type": "markdown",
      "metadata": {
        "id": "LQvJy5TzPgre",
        "colab_type": "text"
      },
      "source": [
        "***Note***\n",
        "\n",
        "The data you apply log transform must have only positive values, otherwise you receive an error. Also, you can add 1 to your data before transform it. Thus, you ensure the output of the transformation to be positive."
      ]
    },
    {
      "cell_type": "code",
      "metadata": {
        "id": "-urTwy7gPgLp",
        "colab_type": "code",
        "colab": {}
      },
      "source": [
        "import pandas as pd\n",
        "import numpy as np \n",
        "import matplotlib.pyplot as plt"
      ],
      "execution_count": 0,
      "outputs": []
    },
    {
      "cell_type": "code",
      "metadata": {
        "id": "vSMSv58tMQGH",
        "colab_type": "code",
        "colab": {}
      },
      "source": [
        "data = pd.read_csv('/content/housing.csv') "
      ],
      "execution_count": 0,
      "outputs": []
    },
    {
      "cell_type": "code",
      "metadata": {
        "id": "GZE-9WJkfvcp",
        "colab_type": "code",
        "colab": {
          "base_uri": "https://localhost:8080/",
          "height": 224
        },
        "outputId": "a94b0d3a-8f47-4e2f-a79b-a5f615083597"
      },
      "source": [
        "data.head()"
      ],
      "execution_count": 3,
      "outputs": [
        {
          "output_type": "execute_result",
          "data": {
            "text/html": [
              "<div>\n",
              "<style scoped>\n",
              "    .dataframe tbody tr th:only-of-type {\n",
              "        vertical-align: middle;\n",
              "    }\n",
              "\n",
              "    .dataframe tbody tr th {\n",
              "        vertical-align: top;\n",
              "    }\n",
              "\n",
              "    .dataframe thead th {\n",
              "        text-align: right;\n",
              "    }\n",
              "</style>\n",
              "<table border=\"1\" class=\"dataframe\">\n",
              "  <thead>\n",
              "    <tr style=\"text-align: right;\">\n",
              "      <th></th>\n",
              "      <th>longitude</th>\n",
              "      <th>latitude</th>\n",
              "      <th>housing_median_age</th>\n",
              "      <th>total_rooms</th>\n",
              "      <th>total_bedrooms</th>\n",
              "      <th>population</th>\n",
              "      <th>households</th>\n",
              "      <th>median_income</th>\n",
              "      <th>median_house_value</th>\n",
              "      <th>ocean_proximity</th>\n",
              "    </tr>\n",
              "  </thead>\n",
              "  <tbody>\n",
              "    <tr>\n",
              "      <th>0</th>\n",
              "      <td>-122.23</td>\n",
              "      <td>37.88</td>\n",
              "      <td>41.0</td>\n",
              "      <td>880.0</td>\n",
              "      <td>129.0</td>\n",
              "      <td>322.0</td>\n",
              "      <td>126.0</td>\n",
              "      <td>8.3252</td>\n",
              "      <td>452600.0</td>\n",
              "      <td>NEAR BAY</td>\n",
              "    </tr>\n",
              "    <tr>\n",
              "      <th>1</th>\n",
              "      <td>-122.22</td>\n",
              "      <td>37.86</td>\n",
              "      <td>21.0</td>\n",
              "      <td>7099.0</td>\n",
              "      <td>1106.0</td>\n",
              "      <td>2401.0</td>\n",
              "      <td>1138.0</td>\n",
              "      <td>8.3014</td>\n",
              "      <td>358500.0</td>\n",
              "      <td>NEAR BAY</td>\n",
              "    </tr>\n",
              "    <tr>\n",
              "      <th>2</th>\n",
              "      <td>-122.24</td>\n",
              "      <td>37.85</td>\n",
              "      <td>52.0</td>\n",
              "      <td>1467.0</td>\n",
              "      <td>190.0</td>\n",
              "      <td>496.0</td>\n",
              "      <td>177.0</td>\n",
              "      <td>7.2574</td>\n",
              "      <td>352100.0</td>\n",
              "      <td>NEAR BAY</td>\n",
              "    </tr>\n",
              "    <tr>\n",
              "      <th>3</th>\n",
              "      <td>-122.25</td>\n",
              "      <td>37.85</td>\n",
              "      <td>52.0</td>\n",
              "      <td>1274.0</td>\n",
              "      <td>235.0</td>\n",
              "      <td>558.0</td>\n",
              "      <td>219.0</td>\n",
              "      <td>5.6431</td>\n",
              "      <td>341300.0</td>\n",
              "      <td>NEAR BAY</td>\n",
              "    </tr>\n",
              "    <tr>\n",
              "      <th>4</th>\n",
              "      <td>-122.25</td>\n",
              "      <td>37.85</td>\n",
              "      <td>52.0</td>\n",
              "      <td>1627.0</td>\n",
              "      <td>280.0</td>\n",
              "      <td>565.0</td>\n",
              "      <td>259.0</td>\n",
              "      <td>3.8462</td>\n",
              "      <td>342200.0</td>\n",
              "      <td>NEAR BAY</td>\n",
              "    </tr>\n",
              "  </tbody>\n",
              "</table>\n",
              "</div>"
            ],
            "text/plain": [
              "   longitude  latitude  ...  median_house_value  ocean_proximity\n",
              "0    -122.23     37.88  ...            452600.0         NEAR BAY\n",
              "1    -122.22     37.86  ...            358500.0         NEAR BAY\n",
              "2    -122.24     37.85  ...            352100.0         NEAR BAY\n",
              "3    -122.25     37.85  ...            341300.0         NEAR BAY\n",
              "4    -122.25     37.85  ...            342200.0         NEAR BAY\n",
              "\n",
              "[5 rows x 10 columns]"
            ]
          },
          "metadata": {
            "tags": []
          },
          "execution_count": 3
        }
      ]
    },
    {
      "cell_type": "code",
      "metadata": {
        "id": "UW0xuJINf3RE",
        "colab_type": "code",
        "colab": {
          "base_uri": "https://localhost:8080/",
          "height": 119
        },
        "outputId": "1da65c04-36e0-4047-c86f-6b386abe8c22"
      },
      "source": [
        "data['Income_log'] = np.log((data['median_income']))\n",
        "data['Income_log'].head()"
      ],
      "execution_count": 5,
      "outputs": [
        {
          "output_type": "execute_result",
          "data": {
            "text/plain": [
              "0    2.119287\n",
              "1    2.116424\n",
              "2    1.982022\n",
              "3    1.730434\n",
              "4    1.347086\n",
              "Name: Income_log, dtype: float64"
            ]
          },
          "metadata": {
            "tags": []
          },
          "execution_count": 5
        }
      ]
    },
    {
      "cell_type": "code",
      "metadata": {
        "id": "Vfnbl_ndgPb5",
        "colab_type": "code",
        "colab": {
          "base_uri": "https://localhost:8080/",
          "height": 119
        },
        "outputId": "bb889abd-882f-48d6-ac4b-9ce6daa39ca2"
      },
      "source": [
        "data['median_income'].head()"
      ],
      "execution_count": 6,
      "outputs": [
        {
          "output_type": "execute_result",
          "data": {
            "text/plain": [
              "0    8.3252\n",
              "1    8.3014\n",
              "2    7.2574\n",
              "3    5.6431\n",
              "4    3.8462\n",
              "Name: median_income, dtype: float64"
            ]
          },
          "metadata": {
            "tags": []
          },
          "execution_count": 6
        }
      ]
    },
    {
      "cell_type": "code",
      "metadata": {
        "id": "_9RWbQOAgY6a",
        "colab_type": "code",
        "colab": {
          "base_uri": "https://localhost:8080/",
          "height": 520
        },
        "outputId": "1e4228fc-23a2-40a0-8e5f-c2df92fc542b"
      },
      "source": [
        "plt.hist(data['median_income'], bins=40)"
      ],
      "execution_count": 11,
      "outputs": [
        {
          "output_type": "execute_result",
          "data": {
            "text/plain": [
              "(array([7.700e+01, 2.880e+02, 6.380e+02, 1.244e+03, 1.669e+03, 1.901e+03,\n",
              "        1.812e+03, 2.054e+03, 1.874e+03, 1.610e+03, 1.426e+03, 1.188e+03,\n",
              "        1.013e+03, 8.190e+02, 5.960e+02, 5.620e+02, 3.920e+02, 2.910e+02,\n",
              "        1.990e+02, 1.780e+02, 1.700e+02, 1.240e+02, 8.400e+01, 5.000e+01,\n",
              "        3.600e+01, 3.600e+01, 5.800e+01, 4.800e+01, 4.600e+01, 2.300e+01,\n",
              "        1.400e+01, 1.000e+01, 1.500e+01, 9.000e+00, 1.300e+01, 1.000e+01,\n",
              "        5.000e+00, 1.000e+00, 5.000e+00, 5.200e+01]),\n",
              " array([ 0.4999  ,  0.862405,  1.22491 ,  1.587415,  1.94992 ,  2.312425,\n",
              "         2.67493 ,  3.037435,  3.39994 ,  3.762445,  4.12495 ,  4.487455,\n",
              "         4.84996 ,  5.212465,  5.57497 ,  5.937475,  6.29998 ,  6.662485,\n",
              "         7.02499 ,  7.387495,  7.75    ,  8.112505,  8.47501 ,  8.837515,\n",
              "         9.20002 ,  9.562525,  9.92503 , 10.287535, 10.65004 , 11.012545,\n",
              "        11.37505 , 11.737555, 12.10006 , 12.462565, 12.82507 , 13.187575,\n",
              "        13.55008 , 13.912585, 14.27509 , 14.637595, 15.0001  ]),\n",
              " <a list of 40 Patch objects>)"
            ]
          },
          "metadata": {
            "tags": []
          },
          "execution_count": 11
        },
        {
          "output_type": "display_data",
          "data": {
            "image/png": "[encoded data removed]",
            "text/plain": [
              "<Figure size 432x288 with 1 Axes>"
            ]
          },
          "metadata": {
            "tags": [],
            "needs_background": "light"
          }
        }
      ]
    },
    {
      "cell_type": "code",
      "metadata": {
        "id": "qHpfQ1rSgrop",
        "colab_type": "code",
        "colab": {
          "base_uri": "https://localhost:8080/",
          "height": 554
        },
        "outputId": "d7304c57-0339-4bdd-fe9e-5e8d50b0b69c"
      },
      "source": [
        "plt.hist(data['Income_log'], bins=40)"
      ],
      "execution_count": 12,
      "outputs": [
        {
          "output_type": "execute_result",
          "data": {
            "text/plain": [
              "(array([2.200e+01, 1.000e+00, 1.000e+00, 6.000e+00, 1.500e+01, 2.300e+01,\n",
              "        3.000e+01, 5.200e+01, 6.000e+01, 7.900e+01, 1.330e+02, 1.610e+02,\n",
              "        2.570e+02, 3.470e+02, 5.230e+02, 5.360e+02, 7.130e+02, 9.530e+02,\n",
              "        9.550e+02, 1.317e+03, 1.102e+03, 1.648e+03, 1.383e+03, 1.590e+03,\n",
              "        1.599e+03, 1.343e+03, 1.213e+03, 1.198e+03, 8.820e+02, 7.530e+02,\n",
              "        5.320e+02, 3.280e+02, 3.020e+02, 1.770e+02, 8.000e+01, 1.260e+02,\n",
              "        7.300e+01, 3.900e+01, 2.800e+01, 6.000e+01]),\n",
              " array([-0.6933472 , -0.6083121 , -0.523277  , -0.4382419 , -0.35320679,\n",
              "        -0.26817169, -0.18313659, -0.09810149, -0.01306639,  0.07196871,\n",
              "         0.15700382,  0.24203892,  0.32707402,  0.41210912,  0.49714422,\n",
              "         0.58217933,  0.66721443,  0.75224953,  0.83728463,  0.92231973,\n",
              "         1.00735483,  1.09238994,  1.17742504,  1.26246014,  1.34749524,\n",
              "         1.43253034,  1.51756544,  1.60260055,  1.68763565,  1.77267075,\n",
              "         1.85770585,  1.94274095,  2.02777605,  2.11281116,  2.19784626,\n",
              "         2.28288136,  2.36791646,  2.45295156,  2.53798666,  2.62302177,\n",
              "         2.70805687]),\n",
              " <a list of 40 Patch objects>)"
            ]
          },
          "metadata": {
            "tags": []
          },
          "execution_count": 12
        },
        {
          "output_type": "display_data",
          "data": {
            "image/png": "[encoded data removed]",
            "text/plain": [
              "<Figure size 432x288 with 1 Axes>"
            ]
          },
          "metadata": {
            "tags": [],
            "needs_background": "light"
          }
        }
      ]
    },
    {
      "cell_type": "markdown",
      "metadata": {
        "id": "6N_91VDxhElS",
        "colab_type": "text"
      },
      "source": [
        "Based on the above plot, we can clearly see that the distribution is more normal-like or gaussian as compared to the skewed distribution on the original data."
      ]
    },
    {
      "cell_type": "markdown",
      "metadata": {
        "id": "kyF4CAG5haeg",
        "colab_type": "text"
      },
      "source": [
        "**Handling Negative data**"
      ]
    },
    {
      "cell_type": "code",
      "metadata": {
        "id": "rrKl1QQFhZ5m",
        "colab_type": "code",
        "colab": {
          "base_uri": "https://localhost:8080/",
          "height": 51
        },
        "outputId": "89f5be9c-049b-4d0e-b421-80fd87274562"
      },
      "source": [
        "data['longitude_log'] = np.log((data['longitude']))"
      ],
      "execution_count": 15,
      "outputs": [
        {
          "output_type": "stream",
          "text": [
            "/usr/local/lib/python3.6/dist-packages/pandas/core/series.py:679: RuntimeWarning: invalid value encountered in log\n",
            "  result = getattr(ufunc, method)(*inputs, **kwargs)\n"
          ],
          "name": "stderr"
        }
      ]
    },
    {
      "cell_type": "code",
      "metadata": {
        "id": "JrjXkkcRgxsK",
        "colab_type": "code",
        "colab": {
          "base_uri": "https://localhost:8080/",
          "height": 221
        },
        "outputId": "09716cd2-bfbf-4ba6-cc55-21e7693294b5"
      },
      "source": [
        "#Error\n",
        "data['longitude_log']"
      ],
      "execution_count": 16,
      "outputs": [
        {
          "output_type": "execute_result",
          "data": {
            "text/plain": [
              "0       NaN\n",
              "1       NaN\n",
              "2       NaN\n",
              "3       NaN\n",
              "4       NaN\n",
              "         ..\n",
              "20635   NaN\n",
              "20636   NaN\n",
              "20637   NaN\n",
              "20638   NaN\n",
              "20639   NaN\n",
              "Name: longitude_log, Length: 20640, dtype: float64"
            ]
          },
          "metadata": {
            "tags": []
          },
          "execution_count": 16
        }
      ]
    },
    {
      "cell_type": "markdown",
      "metadata": {
        "id": "4SwNndj1jBhF",
        "colab_type": "text"
      },
      "source": [
        "It will produce Nan as output so for handling it we have to change log (y) to  - log( -y + 1)"
      ]
    },
    {
      "cell_type": "code",
      "metadata": {
        "id": "3SaaSYD2h2rA",
        "colab_type": "code",
        "colab": {}
      },
      "source": [
        "data['negative_longitude_log'] = -np.log(( -data['longitude']+1))"
      ],
      "execution_count": 0,
      "outputs": []
    },
    {
      "cell_type": "code",
      "metadata": {
        "id": "BwvtDb-Ah_yn",
        "colab_type": "code",
        "colab": {
          "base_uri": "https://localhost:8080/",
          "height": 221
        },
        "outputId": "56350ac6-4816-4a35-87df-e3a5a89afa6a"
      },
      "source": [
        "data['negative_longitude_log']"
      ],
      "execution_count": 23,
      "outputs": [
        {
          "output_type": "execute_result",
          "data": {
            "text/plain": [
              "0       -4.814053\n",
              "1       -4.813971\n",
              "2       -4.814134\n",
              "3       -4.814215\n",
              "4       -4.814215\n",
              "           ...   \n",
              "20635   -4.804758\n",
              "20636   -4.805741\n",
              "20637   -4.805823\n",
              "20638   -4.806641\n",
              "20639   -4.805986\n",
              "Name: negative_longitude_log, Length: 20640, dtype: float64"
            ]
          },
          "metadata": {
            "tags": []
          },
          "execution_count": 23
        }
      ]
    }
  ]
}